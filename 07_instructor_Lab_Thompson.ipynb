{
 "cells": [
  {
   "cell_type": "markdown",
   "id": "d765ada9-ad9d-470f-a26d-d22df04a2bec",
   "metadata": {},
   "source": [
    "# Week 6 Instructor-led Lab - Manipulating Data\n",
    "\n",
    "**Intro to Python**  \n",
    "**Manipulating Data**  \n",
    "**Cody Thompson**  \n",
    "**Date:** 4/14/2025\n",
    "\n",
    "Welcome to my notebook for the Manipulating Data lab! In this notebook, we will be working with the `github_teams.csv` dataset to perform various data manipulations. These operations include accessing data, sorting, filtering, and creating new DataFrames based on specific conditions.\n"
   ]
  },
  {
   "cell_type": "code",
   "execution_count": 2,
   "id": "cad50df2-af5f-45b1-89af-aade02d9062d",
   "metadata": {},
   "outputs": [
    {
     "name": "stdout",
     "output_type": "stream",
     "text": [
      "Current Working Directory: C:\\Users\\cthom\\Downloads\\BGEN 632 Intro to Python\\GitHub_Repos\\Week 7\\week7labs\\data\n"
     ]
    }
   ],
   "source": [
    "import os\n",
    "import pandas as pd\n",
    "import numpy as np\n",
    "from sklearn.model_selection import KFold\n",
    "\n",
    "# Set Working Directory\n",
    "os.chdir('C:\\\\Users\\\\cthom\\\\Downloads\\\\BGEN 632 Intro to Python\\\\GitHub_Repos\\\\Week 7\\\\week7labs\\\\data')\n",
    "\n",
    "# Verify the current working directory\n",
    "print(\"Current Working Directory:\", os.getcwd())\n"
   ]
  },
  {
   "cell_type": "markdown",
   "id": "a0c0a735-79f5-4fcd-b278-8f96e371ed5a",
   "metadata": {},
   "source": [
    "# Acessing Data"
   ]
  },
  {
   "cell_type": "code",
   "execution_count": 3,
   "id": "c64b32e3-353d-4ab4-b4a5-4d1b143e9211",
   "metadata": {},
   "outputs": [],
   "source": [
    "#~~~~~~~~ Accessing Data ~~~~~~~\n",
    "\n",
    "# Load the dataset into a DataFrame\n",
    "df = pd.read_csv('github_teams.csv')"
   ]
  },
  {
   "cell_type": "code",
   "execution_count": 4,
   "id": "aa43259b-c6ee-4ee4-babf-b5946991fb75",
   "metadata": {},
   "outputs": [
    {
     "name": "stdout",
     "output_type": "stream",
     "text": [
      "Column Headers: Index(['name_h', 'Team_type', 'Team_size_class', 'human_members_count',\n",
      "       'bot_members_count', 'human_work', 'work_per_human', 'human_gini',\n",
      "       'human_Push', 'human_IssueComments', 'human_PRReviewComment',\n",
      "       'human_MergedPR', 'bot_work', 'bot_Push', 'bot_IssueComments',\n",
      "       'bot_PRReviewComment', 'bot_MergedPR', 'eval_survival_day_median',\n",
      "       'issues_count'],\n",
      "      dtype='object')\n"
     ]
    }
   ],
   "source": [
    "# Display the column names\n",
    "print(\"Column Headers:\", df.columns)"
   ]
  },
  {
   "cell_type": "code",
   "execution_count": 5,
   "id": "21a8e002-2adb-4581-8769-ab336956301c",
   "metadata": {},
   "outputs": [
    {
     "name": "stdout",
     "output_type": "stream",
     "text": [
      "Number of Columns: 19\n"
     ]
    }
   ],
   "source": [
    "# Get the number of columns in the DataFrame\n",
    "num_columns = len(df.columns)\n",
    "print(\"Number of Columns:\", num_columns)"
   ]
  },
  {
   "cell_type": "code",
   "execution_count": 6,
   "id": "527f8f30-ad5b-48aa-be71-15c86a69a67c",
   "metadata": {},
   "outputs": [
    {
     "name": "stdout",
     "output_type": "stream",
     "text": [
      "Number of Rows: 608\n"
     ]
    }
   ],
   "source": [
    "# Get the number of rows in the DataFrame\n",
    "num_rows = len(df)\n",
    "print(\"Number of Rows:\", num_rows)"
   ]
  },
  {
   "cell_type": "code",
   "execution_count": 7,
   "id": "3deca259-d693-4acb-b3e4-515133c524e1",
   "metadata": {},
   "outputs": [
    {
     "name": "stdout",
     "output_type": "stream",
     "text": [
      "\n",
      "Data Types of Columns:\n",
      "name_h                       object\n",
      "Team_type                    object\n",
      "Team_size_class              object\n",
      "human_members_count           int64\n",
      "bot_members_count             int64\n",
      "human_work                    int64\n",
      "work_per_human              float64\n",
      "human_gini                  float64\n",
      "human_Push                    int64\n",
      "human_IssueComments           int64\n",
      "human_PRReviewComment         int64\n",
      "human_MergedPR                int64\n",
      "bot_work                      int64\n",
      "bot_Push                      int64\n",
      "bot_IssueComments             int64\n",
      "bot_PRReviewComment           int64\n",
      "bot_MergedPR                  int64\n",
      "eval_survival_day_median    float64\n",
      "issues_count                float64\n",
      "dtype: object\n"
     ]
    }
   ],
   "source": [
    "# Determine which columns are categorical and convert them from *object* to *category*\n",
    "print(\"\\nData Types of Columns:\")\n",
    "print(df.dtypes)"
   ]
  },
  {
   "cell_type": "code",
   "execution_count": 8,
   "id": "9b2feeca-1c70-4bb9-8b8b-918d6bcbfaca",
   "metadata": {},
   "outputs": [
    {
     "name": "stdout",
     "output_type": "stream",
     "text": [
      "\n",
      "Categorical Columns converted to category:\n",
      "name_h                      category\n",
      "Team_type                   category\n",
      "Team_size_class             category\n",
      "human_members_count            int64\n",
      "bot_members_count              int64\n",
      "human_work                     int64\n",
      "work_per_human               float64\n",
      "human_gini                   float64\n",
      "human_Push                     int64\n",
      "human_IssueComments            int64\n",
      "human_PRReviewComment          int64\n",
      "human_MergedPR                 int64\n",
      "bot_work                       int64\n",
      "bot_Push                       int64\n",
      "bot_IssueComments              int64\n",
      "bot_PRReviewComment            int64\n",
      "bot_MergedPR                   int64\n",
      "eval_survival_day_median     float64\n",
      "issues_count                 float64\n",
      "dtype: object\n"
     ]
    }
   ],
   "source": [
    "# Convert columns with object type to category (categorical columns)\n",
    "categorical_columns = df.select_dtypes(include=['object']).columns\n",
    "df[categorical_columns] = df[categorical_columns].apply(lambda x: x.astype('category'))\n",
    "print(\"\\nCategorical Columns converted to category:\")\n",
    "print(df.dtypes)"
   ]
  },
  {
   "cell_type": "code",
   "execution_count": 9,
   "id": "cf3d6931-9e38-4c6d-bab6-5c280e04a754",
   "metadata": {},
   "outputs": [
    {
     "name": "stdout",
     "output_type": "stream",
     "text": [
      "\n",
      "Unique values in 'Team_type': 2\n"
     ]
    }
   ],
   "source": [
    "# How many unique values does 'Team_type' have?\n",
    "# Count unique values in 'Team_type' column\n",
    "team_type_unique = df['Team_type'].nunique()\n",
    "print(\"\\nUnique values in 'Team_type':\", team_type_unique)"
   ]
  },
  {
   "cell_type": "code",
   "execution_count": 10,
   "id": "a3099e76-ce65-4048-942e-8102d2d26c3f",
   "metadata": {},
   "outputs": [
    {
     "name": "stdout",
     "output_type": "stream",
     "text": [
      "\n",
      "Unique values in 'Team_size_class': 3\n"
     ]
    }
   ],
   "source": [
    "# How many unique values does 'Team_size_class' have?\n",
    "# Count unique values in 'Team_size_class' column\n",
    "team_size_class_unique = df['Team_size_class'].nunique()\n",
    "print(\"\\nUnique values in 'Team_size_class':\", team_size_class_unique)"
   ]
  },
  {
   "cell_type": "code",
   "execution_count": 11,
   "id": "23eba4af-501f-4118-9355-bff3ac2dae18",
   "metadata": {},
   "outputs": [
    {
     "name": "stdout",
     "output_type": "stream",
     "text": [
      "\n",
      "Value of the 63rd row and 6th column: 35\n"
     ]
    }
   ],
   "source": [
    "# What is the value of the 63rd row and 6th column?\n",
    "# Access the value in the 63rd row and 6th column\n",
    "value_63_6 = df.iloc[62, 5]  # 0-indexed, so row 63 is index 62, column 6 is index 5\n",
    "print(\"\\nValue of the 63rd row and 6th column:\", value_63_6)"
   ]
  },
  {
   "cell_type": "code",
   "execution_count": 12,
   "id": "2e44c3a3-f53f-40ec-a07f-f3b852062729",
   "metadata": {},
   "outputs": [
    {
     "name": "stdout",
     "output_type": "stream",
     "text": [
      "\n",
      "Values for the 300th row:\n",
      "name_h                      IyfocAGfAHLncCVJUujqTA/A_QZ6HlUb5sRQHhPa7SGzQ\n",
      "Team_type                                                       human-bot\n",
      "Team_size_class                                                    Medium\n",
      "human_members_count                                                     4\n",
      "bot_members_count                                                       1\n",
      "human_work                                                           1049\n",
      "work_per_human                                                     262.25\n",
      "human_gini                                                       0.448761\n",
      "human_Push                                                            739\n",
      "human_IssueComments                                                   213\n",
      "human_PRReviewComment                                                  91\n",
      "human_MergedPR                                                          6\n",
      "bot_work                                                               52\n",
      "bot_Push                                                                0\n",
      "bot_IssueComments                                                      52\n",
      "bot_PRReviewComment                                                     0\n",
      "bot_MergedPR                                                            0\n",
      "eval_survival_day_median                                             27.0\n",
      "issues_count                                                        243.0\n",
      "Name: 299, dtype: object\n"
     ]
    }
   ],
   "source": [
    "# What are the values for the 300th row?\n",
    "# Access the 300th row\n",
    "values_300 = df.iloc[299]  # 0-indexed, so row 300 is index 299\n",
    "print(\"\\nValues for the 300th row:\")\n",
    "print(values_300)"
   ]
  },
  {
   "cell_type": "code",
   "execution_count": 13,
   "id": "2fed3c51-1169-4458-a920-68dc135f3253",
   "metadata": {},
   "outputs": [
    {
     "name": "stdout",
     "output_type": "stream",
     "text": [
      "\n",
      "Row 595 with 1st, 2nd, 3rd columns (Method 1):\n",
      "name_h             Z7pZbUnKgDYaYhaLIGmLpw/O92cd-KLiFkunriLmVErdw\n",
      "Team_type                                              human-bot\n",
      "Team_size_class                                            Small\n",
      "Name: 594, dtype: object\n"
     ]
    }
   ],
   "source": [
    "# Select row with index value 595 with 1st, 2nd, 3rd columns using three methods\n",
    "# Method 1: Using .iloc\n",
    "row_595_1 = df.iloc[594, [0, 1, 2]]  # 0-indexed, so row 595 is index 594\n",
    "print(\"\\nRow 595 with 1st, 2nd, 3rd columns (Method 1):\")\n",
    "print(row_595_1)"
   ]
  },
  {
   "cell_type": "code",
   "execution_count": 14,
   "id": "0c2d40a5-7cc7-4bc1-97b7-f07a211ab4a0",
   "metadata": {},
   "outputs": [
    {
     "name": "stdout",
     "output_type": "stream",
     "text": [
      "\n",
      "Row 595 with 1st, 2nd, 3rd columns (Method 2):\n",
      "name_h             zAh1NECRCquqUJ_-1d6hAw/DET3jTK8hokYfY_neJ1IVQ\n",
      "Team_type                                              human-bot\n",
      "Team_size_class                                            Small\n",
      "Name: 595, dtype: object\n"
     ]
    }
   ],
   "source": [
    "# Method 2: Using .loc\n",
    "row_595_2 = df.loc[595, ['name_h', 'Team_type', 'Team_size_class']]  # Correct column name is 'name_h'\n",
    "print(\"\\nRow 595 with 1st, 2nd, 3rd columns (Method 2):\")\n",
    "print(row_595_2)"
   ]
  },
  {
   "cell_type": "code",
   "execution_count": 15,
   "id": "36cb6cd9-3399-4992-a1b0-82b369fb616c",
   "metadata": {},
   "outputs": [
    {
     "name": "stdout",
     "output_type": "stream",
     "text": [
      "\n",
      "Row 595 with 1st, 2nd, 3rd columns (Method 3):\n",
      "name_h             Z7pZbUnKgDYaYhaLIGmLpw/O92cd-KLiFkunriLmVErdw\n",
      "Team_type                                              human-bot\n",
      "Team_size_class                                            Small\n",
      "Name: 594, dtype: object\n"
     ]
    }
   ],
   "source": [
    "# Method 3: Using direct column indexing\n",
    "row_595_3 = df[['name_h', 'Team_type', 'Team_size_class']].iloc[594]\n",
    "print(\"\\nRow 595 with 1st, 2nd, 3rd columns (Method 3):\")\n",
    "print(row_595_3)"
   ]
  },
  {
   "cell_type": "code",
   "execution_count": 16,
   "id": "a10ed78f-c385-4949-a15c-6409e8001fd5",
   "metadata": {},
   "outputs": [
    {
     "name": "stdout",
     "output_type": "stream",
     "text": [
      "\n",
      "Row 46 with 3rd and 7th columns (Method 1):\n",
      "Team_size_class    Small\n",
      "work_per_human      14.0\n",
      "Name: 45, dtype: object\n"
     ]
    }
   ],
   "source": [
    "# Select the row with index value 46 with the 3rd and 7th columns using two methods\n",
    "# Method 1: Using .iloc\n",
    "row_46_1 = df.iloc[45, [2, 6]]  # 0-indexed, so row 46 is index 45, column 3 is index 2, column 7 is index 6\n",
    "print(\"\\nRow 46 with 3rd and 7th columns (Method 1):\")\n",
    "print(row_46_1)\n"
   ]
  },
  {
   "cell_type": "code",
   "execution_count": 17,
   "id": "95de1250-b8f9-482a-bf96-121182fd4029",
   "metadata": {},
   "outputs": [
    {
     "name": "stdout",
     "output_type": "stream",
     "text": [
      "\n",
      "Row 46 with 3rd and 7th columns (Method 2):\n",
      "Team_type            human\n",
      "bot_members_count        0\n",
      "Name: 46, dtype: object\n"
     ]
    }
   ],
   "source": [
    "# Method 2: Using .loc\n",
    "row_46_2 = df.loc[46, ['Team_type', 'bot_members_count']] \n",
    "print(\"\\nRow 46 with 3rd and 7th columns (Method 2):\")\n",
    "print(row_46_2)"
   ]
  },
  {
   "cell_type": "markdown",
   "id": "0606a1bc-3c26-409b-8032-1d5380944248",
   "metadata": {},
   "source": [
    "# Sorting and Ordering Data"
   ]
  },
  {
   "cell_type": "code",
   "execution_count": 18,
   "id": "0dab1609-94e0-4ccc-b263-8abd780fdef6",
   "metadata": {},
   "outputs": [
    {
     "name": "stdout",
     "output_type": "stream",
     "text": [
      "\n",
      "'human-bot' teams with 'bot_members_count' >= 2:\n",
      "                                            name_h  Team_type Team_size_class  \\\n",
      "3    _l5u7I5p4thtW5SjR_9_4w/aZNCdVXta7fh7eCMzZP1CA  human-bot           Large   \n",
      "4    _l5u7I5p4thtW5SjR_9_4w/m_FpD7PKQHqVXHn2bh7u2g  human-bot           Large   \n",
      "42   2-scMrZv13F95YPZmfieww/4Zc56iUYjIZrZU06omFrJw  human-bot           Large   \n",
      "84   4YoH8row044yJjPIqWJw9Q/NSXj3i61X71lV0StTN71Ww  human-bot           Small   \n",
      "89   5Is-_ie16OEGmW1arZm8qg/8UeSk2P76pTG7pPLtxsHTQ  human-bot           Large   \n",
      "110  7sA-8-nyqr0Ri2CT4-FSZw/GJPQoUhHfvUsxKcdkHWLEw  human-bot           Small   \n",
      "146  bi5TY2Z4OSQq3PMs6JnKYA/5wtZcUUo1XmLHIra8NDtFQ  human-bot          Medium   \n",
      "147  bi5TY2Z4OSQq3PMs6JnKYA/9b9IqkDK14ketwn88f3hKA  human-bot           Small   \n",
      "149  bi5TY2Z4OSQq3PMs6JnKYA/kIiAIJpk6lOa6Nxf234KkQ  human-bot           Small   \n",
      "224  FAhkB4rsocfDW0vrM8U8NA/3KHgTzOwWtAxTXlp_mbqoA  human-bot           Large   \n",
      "229  FAhkB4rsocfDW0vrM8U8NA/Tl_ZLGwQZrAi-GHyEKl_jA  human-bot           Large   \n",
      "231  FAhkB4rsocfDW0vrM8U8NA/zHikYkcLoXRCKt2cUrRvvg  human-bot           Large   \n",
      "268  hXoZRbHPbVxh--funPXSiw/iNU0l_SpKVjGfHOp8vUt8w  human-bot           Small   \n",
      "325  kpY6vTbIlrk6Nrjilv8zhw/o_e0F16zwdovR3aFgIQipQ  human-bot           Large   \n",
      "331  LDm8GbdhrDbcBGJF0dR_5g/-L63SLGp3n6MA-y5Di59og  human-bot           Large   \n",
      "345  MC6oqT7o22Y_rULWJZllfA/MXyVzmYYom7cgybNB0CjFQ  human-bot           Large   \n",
      "376  O8b2IFn80coqzdP6IwbEKg/uAklmRuq-bJgMfb-PuSjSg  human-bot          Medium   \n",
      "413  Q658evmRIuaDEnUGlBqzYw/m-hxXTPKmxu3fh32f-RHtg  human-bot           Small   \n",
      "441  ReeJIVTm1BiV_SO5tNDVFA/ZfIj2C4Weg8to684MM7PGA  human-bot           Large   \n",
      "472  sq4hB0bA5jL3X3tvK_-stg/5YplqVgfP__pUXTJ9SMoQA  human-bot          Medium   \n",
      "473  sq4hB0bA5jL3X3tvK_-stg/G5WoDm7Rms4zNbJ3nc6hZA  human-bot           Large   \n",
      "541  vPPJXk7AxaaZyPsmA3MniQ/euqt0qlPNtbUnKy41316mA  human-bot          Medium   \n",
      "568  X1pcjhqqelcsRxAhcbNu-w/HJ1fkoQOuwxXJ25L7FGEcw  human-bot          Medium   \n",
      "586  YQI5l7pwpiRU8KVKXkNjjg/fCxq0R6_z233Fdr2Ly6iug  human-bot          Medium   \n",
      "\n",
      "     human_members_count  bot_members_count  human_work  work_per_human  \\\n",
      "3                    234                 12       14579       62.303419   \n",
      "4                     38                  8        1625       42.763158   \n",
      "42                    23                  2        4648      202.086957   \n",
      "84                     2                  2         114       57.000000   \n",
      "89                    17                  4        7412      436.000000   \n",
      "110                    3                  2         244       81.333333   \n",
      "146                    4                  2         170       42.500000   \n",
      "147                    3                  2         189       63.000000   \n",
      "149                    3                  2          88       29.333333   \n",
      "224                   15                  2        4821      321.400000   \n",
      "229                   18                  2        2328      129.333333   \n",
      "231                   17                  2         816       48.000000   \n",
      "268                    2                  2         910      455.000000   \n",
      "325                   29                  2        2891       99.689655   \n",
      "331                   18                  2         840       46.666667   \n",
      "345                    7                  2        1421      203.000000   \n",
      "376                    4                  2          35        8.750000   \n",
      "413                    2                  2         256      128.000000   \n",
      "441                   15                  2        2211      147.400000   \n",
      "472                    4                  2         484      121.000000   \n",
      "473                   27                  2        2282       84.518519   \n",
      "541                    4                  2         297       74.250000   \n",
      "568                    5                  2         281       56.200000   \n",
      "586                    5                  2        1644      328.800000   \n",
      "\n",
      "     human_gini  human_Push  human_IssueComments  human_PRReviewComment  \\\n",
      "3      0.738342        1942                11430                   1170   \n",
      "4      0.666607         203                 1270                    152   \n",
      "42     0.560241         864                 2574                   1174   \n",
      "84     0.491228         114                    0                      0   \n",
      "89     0.439621        4182                 1257                   1917   \n",
      "110    0.502732         171                   73                      0   \n",
      "146    0.717647         144                    7                     19   \n",
      "147    0.624339         174                   10                      5   \n",
      "149    0.636364          74                    7                      7   \n",
      "224    0.689096        2564                 1801                    386   \n",
      "229    0.680126         573                  795                    960   \n",
      "231    0.683824         177                  447                    192   \n",
      "268    0.065934         207                  369                    334   \n",
      "325    0.752705         762                 1793                    302   \n",
      "331    0.579894         118                  603                    113   \n",
      "345    0.504072         444                  277                    644   \n",
      "376    0.350000          22                   13                      0   \n",
      "413    0.425781         230                    5                     21   \n",
      "441    0.544068         214                 1312                    685   \n",
      "472    0.626033         304                  180                      0   \n",
      "473    0.815302         933                 1275                     74   \n",
      "541    0.521044         275                    5                      0   \n",
      "568    0.422776          95                   94                     85   \n",
      "586    0.560341         214                  997                    433   \n",
      "\n",
      "     human_MergedPR  bot_work  bot_Push  bot_IssueComments  \\\n",
      "3                37      1972         0               1972   \n",
      "4                 0       302         0                302   \n",
      "42               36      1325         0               1325   \n",
      "84                0        37         0                 37   \n",
      "89               56       358         5                202   \n",
      "110               0       136         0                136   \n",
      "146               0       104         0                104   \n",
      "147               0       125         0                125   \n",
      "149               0        74         0                 74   \n",
      "224              70       270        90                116   \n",
      "229               0       117        12                 66   \n",
      "231               0       217        45                113   \n",
      "268               0       114         0                114   \n",
      "325              34       790         1                789   \n",
      "331               6        79         0                 79   \n",
      "345              56        77         0                 77   \n",
      "376               0        26         0                 26   \n",
      "413               0       118         0                118   \n",
      "441               0        50         0                 47   \n",
      "472               0       298         0                298   \n",
      "473               0       475         0                457   \n",
      "541              17       177         0                167   \n",
      "568               7        51         0                 51   \n",
      "586               0       684       251                433   \n",
      "\n",
      "     bot_PRReviewComment  bot_MergedPR  eval_survival_day_median  issues_count  \n",
      "3                      0             0                       1.0        4757.0  \n",
      "4                      0             0                       2.0         777.0  \n",
      "42                     0             0                      11.0        1635.0  \n",
      "84                     0             0                       0.0          14.0  \n",
      "89                   151             0                       2.0         495.0  \n",
      "110                    0             0                       1.0          41.0  \n",
      "146                    0             0                       NaN           NaN  \n",
      "147                    0             0                      35.0           9.0  \n",
      "149                    0             0                       NaN           NaN  \n",
      "224                   52            12                      13.0        1522.0  \n",
      "229                   39             0                      22.0         303.0  \n",
      "231                   59             0                      11.0         241.0  \n",
      "268                    0             0                       4.0          64.0  \n",
      "325                    0             0                       7.0        1283.0  \n",
      "331                    0             0                      16.0         369.0  \n",
      "345                    0             0                      19.0         124.0  \n",
      "376                    0             0                       NaN           NaN  \n",
      "413                    0             0                       0.0           7.0  \n",
      "441                    3             0                       9.0           6.0  \n",
      "472                    0             0                      12.0          92.0  \n",
      "473                    0            18                       2.0         603.0  \n",
      "541                    0            10                       0.0          20.0  \n",
      "568                    0             0                      64.0          25.0  \n",
      "586                    0             0                       4.0          45.0  \n"
     ]
    }
   ],
   "source": [
    "#~~~~~~~~~~~ Sorting and Ordering data  ~~~~~~~~~~~~~\n",
    "\n",
    "# Select 'human-bot' teams with 'bot_members_count' >= 2\n",
    "human_bot_teams = df[(df['Team_type'] == 'human-bot') & (df['bot_members_count'] >= 2)]\n",
    "print(\"\\n'human-bot' teams with 'bot_members_count' >= 2:\")\n",
    "print(human_bot_teams)"
   ]
  },
  {
   "cell_type": "code",
   "execution_count": 21,
   "id": "69d223c0-8334-4538-9cc6-c5588804a57f",
   "metadata": {},
   "outputs": [
    {
     "name": "stdout",
     "output_type": "stream",
     "text": [
      "\n",
      "'human' teams that are 'Large' and have 'human_gini' >= 0.75:\n",
      "                                            name_h Team_type Team_size_class  \\\n",
      "138  ASYGR96YA91p3z7MNKjZCA/IB2pZ8ygcvNnlxUdysjSFA     human           Large   \n",
      "285  IiUao8vA_zm_uEIVVLI-Sw/91ya8vlSP8qgwCllH_6BSw     human           Large   \n",
      "505  uLHPO58cQefwrJUbyhYOKQ/7YWOP8uDEeKDHQMWKqOoYA     human           Large   \n",
      "582  y8Jw59EHVSrsluSuhR5okg/V5vb074jNkzg4YCKforX1Q     human           Large   \n",
      "\n",
      "     human_members_count  bot_members_count  human_work  work_per_human  \\\n",
      "138                   12                  0        1655      137.916667   \n",
      "285                   25                  0        3599      143.960000   \n",
      "505                   48                  0        5748      119.750000   \n",
      "582                    8                  0         277       34.625000   \n",
      "\n",
      "     human_gini  human_Push  human_IssueComments  human_PRReviewComment  \\\n",
      "138    0.799446         793                  684                    178   \n",
      "285    0.863507        1249                 2350                      0   \n",
      "505    0.782040        1715                 3891                    142   \n",
      "582    0.781137         275                    2                      0   \n",
      "\n",
      "     human_MergedPR  bot_work  bot_Push  bot_IssueComments  \\\n",
      "138               0         0         0                  0   \n",
      "285               0         0         0                  0   \n",
      "505               0         0         0                  0   \n",
      "582               0         0         0                  0   \n",
      "\n",
      "     bot_PRReviewComment  bot_MergedPR  eval_survival_day_median  issues_count  \n",
      "138                    0             0                       4.0         190.0  \n",
      "285                    0             0                       0.0        1245.0  \n",
      "505                    0             0                       0.0        1200.0  \n",
      "582                    0             0                       NaN           NaN  \n"
     ]
    }
   ],
   "source": [
    "# Find 'human' teams that are 'Large' and have 'human_gini' >= 0.75\n",
    "human_large_teams = df[(df['Team_type'] == 'human') & (df['Team_size_class'] == 'Large') & (df['human_gini'] >= 0.75)]\n",
    "print(\"\\n'human' teams that are 'Large' and have 'human_gini' >= 0.75:\")\n",
    "print(human_large_teams)"
   ]
  },
  {
   "cell_type": "code",
   "execution_count": 22,
   "id": "c194eef6-9d2b-4798-ac20-95462ea195cf",
   "metadata": {},
   "outputs": [
    {
     "name": "stdout",
     "output_type": "stream",
     "text": [
      "\n",
      "Number of teams in the 'Small' or 'Large' category: 428\n"
     ]
    }
   ],
   "source": [
    "# Count teams in the 'Small' or 'Large' category\n",
    "small_large_teams_count = df[df['Team_size_class'].isin(['Small', 'Large'])].shape[0]\n",
    "print(\"\\nNumber of teams in the 'Small' or 'Large' category:\", small_large_teams_count)"
   ]
  },
  {
   "cell_type": "code",
   "execution_count": 23,
   "id": "5fcaecf9-53d6-4a3e-b0f0-7caea4cadb14",
   "metadata": {},
   "outputs": [
    {
     "name": "stdout",
     "output_type": "stream",
     "text": [
      "\n",
      "Number of teams in the 'Small' or 'Large' category with 'human_gini' <= 0.20: 66\n"
     ]
    }
   ],
   "source": [
    "# Count teams in the 'Small' or 'Large' category with 'human_gini' <= 0.20\n",
    "small_large_gini_count = df[(df['Team_size_class'].isin(['Small', 'Large'])) & (df['human_gini'] <= 0.20)].shape[0]\n",
    "print(\"\\nNumber of teams in the 'Small' or 'Large' category with 'human_gini' <= 0.20:\", small_large_gini_count)"
   ]
  },
  {
   "cell_type": "code",
   "execution_count": 24,
   "id": "5dcf25ed-e275-4b4b-9332-b6db51825baa",
   "metadata": {},
   "outputs": [
    {
     "name": "stdout",
     "output_type": "stream",
     "text": [
      "\n",
      "Number of 'human-bot' teams in the 'Medium' category: 84\n"
     ]
    }
   ],
   "source": [
    "# Count 'human-bot' teams in the 'Medium' category\n",
    "human_bot_medium_teams_count = df[(df['Team_type'] == 'human-bot') & (df['Team_size_class'] == 'Medium')].shape[0]\n",
    "print(\"\\nNumber of 'human-bot' teams in the 'Medium' category:\", human_bot_medium_teams_count)"
   ]
  },
  {
   "cell_type": "code",
   "execution_count": 25,
   "id": "8ae93e37-7dda-408e-a53d-dc8e91268c3d",
   "metadata": {},
   "outputs": [
    {
     "name": "stdout",
     "output_type": "stream",
     "text": [
      "\n",
      "50% subsample of data:\n",
      "                                            name_h  Team_type Team_size_class  \\\n",
      "109  7R4RlGuxT82BQcun7raI2A/qMXTUX8UDZFqbyxir5YUaA      human           Large   \n",
      "10   -2eEmMGH_9GMVVn0WImTyA/fqB6po6-zxOceVyOZhgyNg  human-bot           Large   \n",
      "184  DevSiHbJAM-XpY7qknTWIA/ZQC28gcQYc30ailijMZxIg      human          Medium   \n",
      "77   4bzOzx-_iEqw2tTZAGgCBQ/o5j7d9925hU99XzWX9CnxQ      human           Small   \n",
      "538  vpAJthlySeoTSTCzS0iH9w/WC1ULBuXAws4mFhHGkKRrg  human-bot           Small   \n",
      "\n",
      "     human_members_count  bot_members_count  human_work  work_per_human  \\\n",
      "109                    9                  0         344       38.222222   \n",
      "10                    16                  1        5105      319.062500   \n",
      "184                    5                  0         367       73.400000   \n",
      "77                     2                  0          93       46.500000   \n",
      "538                    3                  1         303      101.000000   \n",
      "\n",
      "     human_gini  human_Push  human_IssueComments  human_PRReviewComment  \\\n",
      "109    0.678941         322                    8                     14   \n",
      "10     0.572931         734                 1984                   2313   \n",
      "184    0.680109         293                   74                      0   \n",
      "77     0.188172          47                   28                     18   \n",
      "538    0.521452         100                   11                    192   \n",
      "\n",
      "     human_MergedPR  bot_work  bot_Push  bot_IssueComments  \\\n",
      "109               0         0         0                  0   \n",
      "10               74       558         0                558   \n",
      "184               0         0         0                  0   \n",
      "77                0         0         0                  0   \n",
      "538               0        23        23                  0   \n",
      "\n",
      "     bot_PRReviewComment  bot_MergedPR  eval_survival_day_median  issues_count  \n",
      "109                    0             0                       7.0          18.0  \n",
      "10                     0             0                      40.0         248.0  \n",
      "184                    0             0                     173.0         164.0  \n",
      "77                     0             0                       NaN           NaN  \n",
      "538                    0             0                       NaN           NaN  \n"
     ]
    }
   ],
   "source": [
    "# Create a subsample of 50% of your data\n",
    "subsample_50 = df.sample(frac=0.5, random_state=42)\n",
    "print(\"\\n50% subsample of data:\")\n",
    "print(subsample_50.head())"
   ]
  },
  {
   "cell_type": "code",
   "execution_count": 26,
   "id": "4ed0b356-de68-4453-a79f-246fb98a3deb",
   "metadata": {},
   "outputs": [
    {
     "name": "stdout",
     "output_type": "stream",
     "text": [
      "\n",
      "8-fold cross-validation samples:\n",
      "\n",
      "Fold 1:\n",
      "                                            name_h  Team_type Team_size_class  \\\n",
      "576  xWubIgj2VILg4snlrzsM4w/UalqK3B7G5LNe6qRInBKHw      human           Small   \n",
      "52   35V6uT_BzwKvPZ1wkdVc9g/GGqiclKUTLWu2NNVmV5H3g  human-bot           Small   \n",
      "531  vihAQ-l2aJ5v4UYrXYRGiw/DEmu3nlEY-yVVBpaZ4dG_Q      human           Large   \n",
      "345  MC6oqT7o22Y_rULWJZllfA/MXyVzmYYom7cgybNB0CjFQ  human-bot           Large   \n",
      "55   3kxNLliWxuuskyxXPMhm9w/cUJHhJ8OwSG-iDYoeBPbFw  human-bot           Small   \n",
      "\n",
      "     human_members_count  bot_members_count  human_work  work_per_human  \\\n",
      "576                    3                  0          46       15.333333   \n",
      "52                     2                  1         118       59.000000   \n",
      "531                    7                  0          91       13.000000   \n",
      "345                    7                  2        1421      203.000000   \n",
      "55                     2                  1         187       93.500000   \n",
      "\n",
      "     human_gini  human_Push  human_IssueComments  human_PRReviewComment  \\\n",
      "576    0.231884          46                    0                      0   \n",
      "52     0.305085          68                   50                      0   \n",
      "531    0.536892          62                   28                      1   \n",
      "345    0.504072         444                  277                    644   \n",
      "55     0.494652         101                   82                      4   \n",
      "\n",
      "     human_MergedPR  bot_work  bot_Push  bot_IssueComments  \\\n",
      "576               0         0         0                  0   \n",
      "52                0        25         0                 25   \n",
      "531               0         0         0                  0   \n",
      "345              56        77         0                 77   \n",
      "55                0       118        21                 93   \n",
      "\n",
      "     bot_PRReviewComment  bot_MergedPR  eval_survival_day_median  issues_count  \n",
      "576                    0             0                       NaN           NaN  \n",
      "52                     0             0                      20.0          30.0  \n",
      "531                    0             0                       0.0          12.0  \n",
      "345                    0             0                      19.0         124.0  \n",
      "55                     4             0                       9.0          13.0  \n",
      "\n",
      "Fold 2:\n",
      "                                            name_h  Team_type Team_size_class  \\\n",
      "65   3VFbLRx-am2PA7KH0P_qQQ/JhvGB8Nzuc1DqysPsJ_2EA  human-bot           Small   \n",
      "237  FJmB0zbVT0ileOMUPtWRIQ/v2hyhTxDNjcQKAdrTbpb-g  human-bot           Small   \n",
      "147  bi5TY2Z4OSQq3PMs6JnKYA/9b9IqkDK14ketwn88f3hKA  human-bot           Small   \n",
      "465  spL8LX3lBfeOPK4bBuqFSA/bkk-seJ9inTX7FeK-3cKzw      human          Medium   \n",
      "187  dONQnlabJ76NyiesZDhgaw/5Z26n_sfY_gu_ELgILfddQ  human-bot           Small   \n",
      "\n",
      "     human_members_count  bot_members_count  human_work  work_per_human  \\\n",
      "65                     2                  1          79       39.500000   \n",
      "237                    3                  1           8        2.666667   \n",
      "147                    3                  2         189       63.000000   \n",
      "465                    6                  0         322       53.666667   \n",
      "187                    3                  1         195       65.000000   \n",
      "\n",
      "     human_gini  human_Push  human_IssueComments  human_PRReviewComment  \\\n",
      "65     0.322785           1                    0                     78   \n",
      "237    0.416667           8                    0                      0   \n",
      "147    0.624339         174                   10                      5   \n",
      "465    0.493789         169                   63                     83   \n",
      "187    0.608547         188                    0                      0   \n",
      "\n",
      "     human_MergedPR  bot_work  bot_Push  bot_IssueComments  \\\n",
      "65                0         8         5                  3   \n",
      "237               0        24        24                  0   \n",
      "147               0       125         0                125   \n",
      "465               7         0         0                  0   \n",
      "187               7        67         0                 67   \n",
      "\n",
      "     bot_PRReviewComment  bot_MergedPR  eval_survival_day_median  issues_count  \n",
      "65                     0             0                       NaN           NaN  \n",
      "237                    0             0                       NaN           NaN  \n",
      "147                    0             0                      35.0           9.0  \n",
      "465                    0             0                       NaN           NaN  \n",
      "187                    0             0                       0.0           6.0  \n",
      "\n",
      "Fold 3:\n",
      "                                            name_h  Team_type Team_size_class  \\\n",
      "521  v5PGCtUnOV-prbrbzXGNPA/WvsVdePtbZE9ZgpZ_80moQ  human-bot          Medium   \n",
      "335  lJV6eJYsCd5pxaeJJvdzew/7UgO7jpMjXZnbzRVVQJ6bw  human-bot           Small   \n",
      "525  vcZNKZQO7ROl9hmHInBhxg/J23SfU_92OmbdWb7hRno7g  human-bot          Medium   \n",
      "460  sIvk6F9eBmLNavTjMZaWjg/6woZF5diTdOkj6aB0wYSEg      human          Medium   \n",
      "131  aDx1GdsswIazQK3BwDdwZg/kdZuEuu6QxZbT50qaSVNBQ  human-bot          Medium   \n",
      "\n",
      "     human_members_count  bot_members_count  human_work  work_per_human  \\\n",
      "521                    5                  1         335       67.000000   \n",
      "335                    3                  1         327      109.000000   \n",
      "525                    5                  1         330       66.000000   \n",
      "460                    5                  0          40        8.000000   \n",
      "131                    6                  1         355       59.166667   \n",
      "\n",
      "     human_gini  human_Push  human_IssueComments  human_PRReviewComment  \\\n",
      "521    0.273433         177                  158                      0   \n",
      "335    0.583078         302                   13                      1   \n",
      "525    0.607273         306                   22                      2   \n",
      "460    0.630000          37                    0                      3   \n",
      "131    0.501878          42                  167                    146   \n",
      "\n",
      "     human_MergedPR  bot_work  bot_Push  bot_IssueComments  \\\n",
      "521               0       104         0                104   \n",
      "335              11        51         0                 51   \n",
      "525               0        17         0                 17   \n",
      "460               0         0         0                  0   \n",
      "131               0        42         0                 42   \n",
      "\n",
      "     bot_PRReviewComment  bot_MergedPR  eval_survival_day_median  issues_count  \n",
      "521                    0             0                       4.0         216.0  \n",
      "335                    0             0                       NaN           NaN  \n",
      "525                    0             0                      45.0          10.0  \n",
      "460                    0             0                       NaN           NaN  \n",
      "131                    0             0                       NaN           NaN  \n",
      "\n",
      "Fold 4:\n",
      "                                            name_h  Team_type Team_size_class  \\\n",
      "346  MC6oqT7o22Y_rULWJZllfA/zAM1qPoyWqHwI-dmhq2K3w  human-bot           Large   \n",
      "280  ibPkRL8wULOcIekSgQ-e2w/s-RN85yjJV03lxFa0-InHQ  human-bot           Small   \n",
      "131  aDx1GdsswIazQK3BwDdwZg/kdZuEuu6QxZbT50qaSVNBQ  human-bot          Medium   \n",
      "127  9yAG1Wl2EUQb-mgMbu14cg/0SE8Ru05hPPuZfPY-bmeFw      human          Medium   \n",
      "389  oLRyRQtwREy2b76lwXatmA/EqsZL2Si6oZXIzZIcYnV2g      human          Medium   \n",
      "\n",
      "     human_members_count  bot_members_count  human_work  work_per_human  \\\n",
      "346                   16                  1        5340      333.750000   \n",
      "280                    2                  1         571      285.500000   \n",
      "131                    6                  1         355       59.166667   \n",
      "127                    4                  0          57       14.250000   \n",
      "389                    4                  0          59       14.750000   \n",
      "\n",
      "     human_gini  human_Push  human_IssueComments  human_PRReviewComment  \\\n",
      "346    0.683638        1912                 1283                   2129   \n",
      "280    0.485989         546                   21                      4   \n",
      "131    0.501878          42                  167                    146   \n",
      "127    0.521930          57                    0                      0   \n",
      "389    0.343220          59                    0                      0   \n",
      "\n",
      "     human_MergedPR  bot_work  bot_Push  bot_IssueComments  \\\n",
      "346              16       271         0                271   \n",
      "280               0        96         0                 96   \n",
      "131               0        42         0                 42   \n",
      "127               0         0         0                  0   \n",
      "389               0         0         0                  0   \n",
      "\n",
      "     bot_PRReviewComment  bot_MergedPR  eval_survival_day_median  issues_count  \n",
      "346                    0             0                      16.0         371.0  \n",
      "280                    0             0                       5.0          73.0  \n",
      "131                    0             0                       NaN           NaN  \n",
      "127                    0             0                       NaN           NaN  \n",
      "389                    0             0                       NaN           NaN  \n",
      "\n",
      "Fold 5:\n",
      "                                            name_h  Team_type Team_size_class  \\\n",
      "31   0Jb-T8Py7O9d0fsJhO-Fpw/rwCxyocq77Et9MLBctA5ig  human-bot           Small   \n",
      "265  hKvuUFIh4HL0fiwgzpquUA/23Ai2xnKF7ehi6Ge8sjipA  human-bot           Large   \n",
      "229  FAhkB4rsocfDW0vrM8U8NA/Tl_ZLGwQZrAi-GHyEKl_jA  human-bot           Large   \n",
      "336  LqO7byDO33jcTWA2OUn9rg/2nW0SwqwK8jgJoKxVIsu-A      human           Small   \n",
      "549  W2_tmyhwh3fDPHUI_1_e-Q/0qV9wdiD_SH7mVFpnfccxw      human          Medium   \n",
      "\n",
      "     human_members_count  bot_members_count  human_work  work_per_human  \\\n",
      "31                     2                  1          36       18.000000   \n",
      "265                    9                  1         398       44.222222   \n",
      "229                   18                  2        2328      129.333333   \n",
      "336                    2                  0          49       24.500000   \n",
      "549                    6                  0          56        9.333333   \n",
      "\n",
      "     human_gini  human_Push  human_IssueComments  human_PRReviewComment  \\\n",
      "31     0.250000           1                    4                     31   \n",
      "265    0.634841         155                  211                     32   \n",
      "229    0.680126         573                  795                    960   \n",
      "336    0.479592          49                    0                      0   \n",
      "549    0.220238          55                    1                      0   \n",
      "\n",
      "     human_MergedPR  bot_work  bot_Push  bot_IssueComments  \\\n",
      "31                0        71        51                 20   \n",
      "265               0        18         0                 11   \n",
      "229               0       117        12                 66   \n",
      "336               0         0         0                  0   \n",
      "549               0         0         0                  0   \n",
      "\n",
      "     bot_PRReviewComment  bot_MergedPR  eval_survival_day_median  issues_count  \n",
      "31                     0             0                       NaN           NaN  \n",
      "265                    0             7                       9.0          53.0  \n",
      "229                   39             0                      22.0         303.0  \n",
      "336                    0             0                       NaN           NaN  \n",
      "549                    0             0                       NaN           NaN  \n",
      "\n",
      "Fold 6:\n",
      "                                            name_h  Team_type Team_size_class  \\\n",
      "28   0Jb-T8Py7O9d0fsJhO-Fpw/iO4bRWz6mrUVj8nn4zpjBQ  human-bot           Small   \n",
      "376  O8b2IFn80coqzdP6IwbEKg/uAklmRuq-bJgMfb-PuSjSg  human-bot          Medium   \n",
      "53   3fa6t1_rA76z0ctbksVa4g/GfIwhFCOo1NjJHOk2LzVRQ      human          Medium   \n",
      "494  tu_WBtEY0PYgZuMUGf8EzA/u-MOye_FFfDeeJ3ZAIF2GQ  human-bot           Large   \n",
      "606  zVSBi-iRKCzLiqFwVt6hbg/fm_lDWwc8Uu-aZ24BjUNZg      human          Medium   \n",
      "\n",
      "     human_members_count  bot_members_count  human_work  work_per_human  \\\n",
      "28                     2                  1          22       11.000000   \n",
      "376                    4                  2          35        8.750000   \n",
      "53                     4                  0         164       41.000000   \n",
      "494                    7                  1         507       72.428571   \n",
      "606                    5                  0          13        2.600000   \n",
      "\n",
      "     human_gini  human_Push  human_IssueComments  human_PRReviewComment  \\\n",
      "28     0.227273           4                    0                     18   \n",
      "376    0.350000          22                   13                      0   \n",
      "53     0.585366         163                    1                      0   \n",
      "494    0.446323           0                  425                     82   \n",
      "606    0.246154           8                    4                      1   \n",
      "\n",
      "     human_MergedPR  bot_work  bot_Push  bot_IssueComments  \\\n",
      "28                0         3         3                  0   \n",
      "376               0        26         0                 26   \n",
      "53                0         0         0                  0   \n",
      "494               0        96        96                  0   \n",
      "606               0         0         0                  0   \n",
      "\n",
      "     bot_PRReviewComment  bot_MergedPR  eval_survival_day_median  issues_count  \n",
      "28                     0             0                       NaN           NaN  \n",
      "376                    0             0                       NaN           NaN  \n",
      "53                     0             0                       NaN           NaN  \n",
      "494                    0             0                       NaN           NaN  \n",
      "606                    0             0                       8.0          10.0  \n",
      "\n",
      "Fold 7:\n",
      "                                            name_h  Team_type Team_size_class  \\\n",
      "395  p_y3FfCgmMaToNN6da6ogg/EuoPSxKx7rz5lMBDh9CQ_Q      human          Medium   \n",
      "547  VwIKwrEh6EC2Plx7wEWUqA/34LXbF7r3lo29QFAHpAw_g  human-bot           Large   \n",
      "208  eIOrG09vYc80gjc-U2IZ9Q/Sct_TTYcQ2sfX2xanCKovg      human           Small   \n",
      "79   4O_VHaTKJVlsJzbOStcZkQ/iLtFn37ZJBODy7rqkrNvlA      human           Small   \n",
      "273  I0yWSrCv2Tn-LWp-Xn3LHw/dvfdpyHO1vS1Ars7aKglRg      human           Small   \n",
      "\n",
      "     human_members_count  bot_members_count  human_work  work_per_human  \\\n",
      "395                    4                  0         286       71.500000   \n",
      "547                   13                  1         162       12.461538   \n",
      "208                    2                  0          49       24.500000   \n",
      "79                     3                  0          29        9.666667   \n",
      "273                    3                  0          29        9.666667   \n",
      "\n",
      "     human_gini  human_Push  human_IssueComments  human_PRReviewComment  \\\n",
      "395    0.442308         184                  102                      0   \n",
      "547    0.547009          76                   84                      2   \n",
      "208    0.377551          34                   13                      2   \n",
      "79     0.114943          29                    0                      0   \n",
      "273    0.413793          29                    0                      0   \n",
      "\n",
      "     human_MergedPR  bot_work  bot_Push  bot_IssueComments  \\\n",
      "395               0         0         0                  0   \n",
      "547               0        65         0                 65   \n",
      "208               0         0         0                  0   \n",
      "79                0         0         0                  0   \n",
      "273               0         0         0                  0   \n",
      "\n",
      "     bot_PRReviewComment  bot_MergedPR  eval_survival_day_median  issues_count  \n",
      "395                    0             0                       5.0          94.0  \n",
      "547                    0             0                       NaN           NaN  \n",
      "208                    0             0                       NaN           NaN  \n",
      "79                     0             0                       NaN           NaN  \n",
      "273                    0             0                       NaN           NaN  \n",
      "\n",
      "Fold 8:\n",
      "                                            name_h  Team_type Team_size_class  \\\n",
      "401  Pi2d5Zdp2NTevl-Yx1kPhg/Nw-hyeMmhaPQMoiDvelejw      human           Small   \n",
      "283  igHT01L5-7X7AFeUJ3FYLg/6C8D_0yBCB3H-audcSRNRQ      human           Small   \n",
      "414  Q9lZ3YadQhYfVelZJWocdQ/zYgLcm4KDb1CN_ENFdpG9A  human-bot           Small   \n",
      "482  tAVanqc-A5zcoStGhqyJOg/_0UalxaL-gT6va34zbihIg      human           Small   \n",
      "419  qxoUVhp1ngGpm7I6YixkWQ/ABayIekJTYMB3kgD48wKSQ      human           Small   \n",
      "\n",
      "     human_members_count  bot_members_count  human_work  work_per_human  \\\n",
      "401                    2                  0         215           107.5   \n",
      "283                    2                  0          79            39.5   \n",
      "414                    2                  1         223           111.5   \n",
      "482                    3                  0          51            17.0   \n",
      "419                    2                  0          60            30.0   \n",
      "\n",
      "     human_gini  human_Push  human_IssueComments  human_PRReviewComment  \\\n",
      "401    0.416279         151                   49                     15   \n",
      "283    0.132911          74                    4                      1   \n",
      "414    0.491031         187                   31                      5   \n",
      "482    0.274510          51                    0                      0   \n",
      "419    0.383333          58                    2                      0   \n",
      "\n",
      "     human_MergedPR  bot_work  bot_Push  bot_IssueComments  \\\n",
      "401               0         0         0                  0   \n",
      "283               0         0         0                  0   \n",
      "414               0        11         0                 11   \n",
      "482               0         0         0                  0   \n",
      "419               0         0         0                  0   \n",
      "\n",
      "     bot_PRReviewComment  bot_MergedPR  eval_survival_day_median  issues_count  \n",
      "401                    0             0                       0.0          89.0  \n",
      "283                    0             0                       NaN           NaN  \n",
      "414                    0             0                       1.0          42.0  \n",
      "482                    0             0                       NaN           NaN  \n",
      "419                    0             0                       NaN           NaN  \n"
     ]
    }
   ],
   "source": [
    "# Create samples for an 8-fold cross-validation test\n",
    "cross_val_samples = [df.sample(frac=1/8, random_state=i) for i in range(8)]\n",
    "print(\"\\n8-fold cross-validation samples:\")\n",
    "for i, sample in enumerate(cross_val_samples):\n",
    "    print(f\"\\nFold {i+1}:\")\n",
    "    print(sample.head())"
   ]
  },
  {
   "cell_type": "code",
   "execution_count": 27,
   "id": "c973c5d7-b5ed-4cc5-9bd1-76cca0ec1834",
   "metadata": {},
   "outputs": [
    {
     "name": "stdout",
     "output_type": "stream",
     "text": [
      "\n",
      "Numeric columns DataFrame:\n",
      "   human_members_count  bot_members_count  human_work  work_per_human  \\\n",
      "0                    2                  1          66       33.000000   \n",
      "1                    2                  0          62       31.000000   \n",
      "2                    7                  0         211       30.142857   \n",
      "3                  234                 12       14579       62.303419   \n",
      "4                   38                  8        1625       42.763158   \n",
      "\n",
      "   human_gini  human_Push  human_IssueComments  human_PRReviewComment  \\\n",
      "0    0.287879          29                   33                      4   \n",
      "1    0.467742          62                    0                      0   \n",
      "2    0.499661         194                   16                      1   \n",
      "3    0.738342        1942                11430                   1170   \n",
      "4    0.666607         203                 1270                    152   \n",
      "\n",
      "   human_MergedPR  bot_work  bot_Push  bot_IssueComments  bot_PRReviewComment  \\\n",
      "0               0        43         0                 43                    0   \n",
      "1               0         0         0                  0                    0   \n",
      "2               0         0         0                  0                    0   \n",
      "3              37      1972         0               1972                    0   \n",
      "4               0       302         0                302                    0   \n",
      "\n",
      "   bot_MergedPR  eval_survival_day_median  issues_count  \n",
      "0             0                      87.0           8.0  \n",
      "1             0                       NaN           NaN  \n",
      "2             0                      37.0          46.0  \n",
      "3             0                       1.0        4757.0  \n",
      "4             0                       2.0         777.0  \n"
     ]
    }
   ],
   "source": [
    "# Select columns that are numeric and save as a new DataFrame\n",
    "numeric_columns_df = df.select_dtypes(include=['number'])\n",
    "print(\"\\nNumeric columns DataFrame:\")\n",
    "print(numeric_columns_df.head())"
   ]
  },
  {
   "cell_type": "code",
   "execution_count": 28,
   "id": "90d453c3-dc1e-470b-83c0-0a7c4bff504c",
   "metadata": {},
   "outputs": [
    {
     "name": "stdout",
     "output_type": "stream",
     "text": [
      "\n",
      "DataFrame after removing 'bot_PRReviewComment' and 'bot_MergedPR':\n",
      "                                          name_h  Team_type Team_size_class  \\\n",
      "0  _1bqaxzCk0sfQaunsjeViQ/RCEZ3CASdLXbstu9y2JQ7Q  human-bot           Small   \n",
      "1  _9o07rGiC7DFyi-zm91Q0g/VOgMsrjYEwFAq0BY8kHqGQ      human           Small   \n",
      "2  _DzK53uaZXnAX3WcC0W28g/Epc4QWw5PNBQIIdvopEHDA      human           Large   \n",
      "3  _l5u7I5p4thtW5SjR_9_4w/aZNCdVXta7fh7eCMzZP1CA  human-bot           Large   \n",
      "4  _l5u7I5p4thtW5SjR_9_4w/m_FpD7PKQHqVXHn2bh7u2g  human-bot           Large   \n",
      "\n",
      "   human_members_count  bot_members_count  human_work  work_per_human  \\\n",
      "0                    2                  1          66       33.000000   \n",
      "1                    2                  0          62       31.000000   \n",
      "2                    7                  0         211       30.142857   \n",
      "3                  234                 12       14579       62.303419   \n",
      "4                   38                  8        1625       42.763158   \n",
      "\n",
      "   human_gini  human_Push  human_IssueComments  human_PRReviewComment  \\\n",
      "0    0.287879          29                   33                      4   \n",
      "1    0.467742          62                    0                      0   \n",
      "2    0.499661         194                   16                      1   \n",
      "3    0.738342        1942                11430                   1170   \n",
      "4    0.666607         203                 1270                    152   \n",
      "\n",
      "   human_MergedPR  bot_work  bot_Push  bot_IssueComments  \\\n",
      "0               0        43         0                 43   \n",
      "1               0         0         0                  0   \n",
      "2               0         0         0                  0   \n",
      "3              37      1972         0               1972   \n",
      "4               0       302         0                302   \n",
      "\n",
      "   eval_survival_day_median  issues_count  \n",
      "0                      87.0           8.0  \n",
      "1                       NaN           NaN  \n",
      "2                      37.0          46.0  \n",
      "3                       1.0        4757.0  \n",
      "4                       2.0         777.0  \n"
     ]
    }
   ],
   "source": [
    "# Remove the columns 'bot_PRReviewComment' and 'bot_MergedPR'\n",
    "df_dropped = df.drop(columns=['bot_PRReviewComment', 'bot_MergedPR'])\n",
    "print(\"\\nDataFrame after removing 'bot_PRReviewComment' and 'bot_MergedPR':\")\n",
    "print(df_dropped.head())"
   ]
  },
  {
   "cell_type": "code",
   "execution_count": 29,
   "id": "b3e9f6bd-06de-442a-bb9e-b274504cab73",
   "metadata": {},
   "outputs": [],
   "source": [
    "# Save the columns 'Team_size_class' and 'human_members_count' as a new DataFrame\n",
    "team_size_gini_df = df[['Team_size_class', 'human_members_count']].copy()"
   ]
  },
  {
   "cell_type": "code",
   "execution_count": 30,
   "id": "5d82b3b6-b3ac-4074-bbb1-da80e8370c04",
   "metadata": {},
   "outputs": [
    {
     "name": "stdout",
     "output_type": "stream",
     "text": [
      "\n",
      "Renamed DataFrame:\n",
      "  Size Class  Human Members Count\n",
      "0      Small                    2\n",
      "1      Small                    2\n",
      "2      Large                    7\n",
      "3      Large                  234\n",
      "4      Large                   38\n"
     ]
    }
   ],
   "source": [
    "# Rename these two columns in the new DataFrame\n",
    "team_size_gini_df.rename(columns={'Team_size_class': 'Size Class', 'human_members_count': 'Human Members Count'}, inplace=True)\n",
    "print(\"\\nRenamed DataFrame:\")\n",
    "print(team_size_gini_df.head())"
   ]
  }
 ],
 "metadata": {
  "kernelspec": {
   "display_name": "Python 3 (ipykernel)",
   "language": "python",
   "name": "python3"
  },
  "language_info": {
   "codemirror_mode": {
    "name": "ipython",
    "version": 3
   },
   "file_extension": ".py",
   "mimetype": "text/x-python",
   "name": "python",
   "nbconvert_exporter": "python",
   "pygments_lexer": "ipython3",
   "version": "3.12.7"
  }
 },
 "nbformat": 4,
 "nbformat_minor": 5
}
